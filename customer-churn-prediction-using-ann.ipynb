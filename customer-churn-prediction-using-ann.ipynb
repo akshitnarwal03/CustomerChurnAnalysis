{
 "cells": [
  {
   "cell_type": "code",
   "execution_count": 29,
   "id": "sharp-acrylic",
   "metadata": {
    "execution": {
     "iopub.execute_input": "2021-11-09T08:07:20.848394Z",
     "iopub.status.busy": "2021-11-09T08:07:20.847224Z",
     "iopub.status.idle": "2021-11-09T08:07:21.671735Z",
     "shell.execute_reply": "2021-11-09T08:07:21.672272Z",
     "shell.execute_reply.started": "2021-11-09T08:03:11.609233Z"
    },
    "papermill": {
     "duration": 0.851997,
     "end_time": "2021-11-09T08:07:21.672596",
     "exception": false,
     "start_time": "2021-11-09T08:07:20.820599",
     "status": "completed"
    },
    "tags": []
   },
   "outputs": [],
   "source": [
    "import pandas as pd\n",
    "import numpy as np\n",
    "import matplotlib.pyplot as plt\n",
    "import seaborn as sns\n",
    "\n",
    "import warnings\n",
    "warnings.filterwarnings('ignore')\n",
    "\n",
    "plt.style.use('fivethirtyeight')\n",
    "%matplotlib inline"
   ]
  },
  {
   "cell_type": "code",
   "execution_count": 30,
   "id": "answering-saturday",
   "metadata": {
    "execution": {
     "iopub.execute_input": "2021-11-09T08:07:21.724142Z",
     "iopub.status.busy": "2021-11-09T08:07:21.723464Z",
     "iopub.status.idle": "2021-11-09T08:07:21.806217Z",
     "shell.execute_reply": "2021-11-09T08:07:21.807086Z",
     "shell.execute_reply.started": "2021-11-09T08:03:11.619396Z"
    },
    "papermill": {
     "duration": 0.111519,
     "end_time": "2021-11-09T08:07:21.807326",
     "exception": false,
     "start_time": "2021-11-09T08:07:21.695807",
     "status": "completed"
    },
    "tags": []
   },
   "outputs": [
    {
     "data": {
      "text/html": [
       "<div>\n",
       "<style scoped>\n",
       "    .dataframe tbody tr th:only-of-type {\n",
       "        vertical-align: middle;\n",
       "    }\n",
       "\n",
       "    .dataframe tbody tr th {\n",
       "        vertical-align: top;\n",
       "    }\n",
       "\n",
       "    .dataframe thead th {\n",
       "        text-align: right;\n",
       "    }\n",
       "</style>\n",
       "<table border=\"1\" class=\"dataframe\">\n",
       "  <thead>\n",
       "    <tr style=\"text-align: right;\">\n",
       "      <th></th>\n",
       "      <th>RowNumber</th>\n",
       "      <th>CustomerId</th>\n",
       "      <th>Surname</th>\n",
       "      <th>CreditScore</th>\n",
       "      <th>Geography</th>\n",
       "      <th>Gender</th>\n",
       "      <th>Age</th>\n",
       "      <th>Tenure</th>\n",
       "      <th>Balance</th>\n",
       "      <th>NumOfProducts</th>\n",
       "      <th>HasCrCard</th>\n",
       "      <th>IsActiveMember</th>\n",
       "      <th>EstimatedSalary</th>\n",
       "      <th>Exited</th>\n",
       "    </tr>\n",
       "  </thead>\n",
       "  <tbody>\n",
       "    <tr>\n",
       "      <th>0</th>\n",
       "      <td>1</td>\n",
       "      <td>15634602</td>\n",
       "      <td>Hargrave</td>\n",
       "      <td>619</td>\n",
       "      <td>France</td>\n",
       "      <td>Female</td>\n",
       "      <td>42</td>\n",
       "      <td>2</td>\n",
       "      <td>0.00</td>\n",
       "      <td>1</td>\n",
       "      <td>1</td>\n",
       "      <td>1</td>\n",
       "      <td>101348.88</td>\n",
       "      <td>1</td>\n",
       "    </tr>\n",
       "    <tr>\n",
       "      <th>1</th>\n",
       "      <td>2</td>\n",
       "      <td>15647311</td>\n",
       "      <td>Hill</td>\n",
       "      <td>608</td>\n",
       "      <td>Spain</td>\n",
       "      <td>Female</td>\n",
       "      <td>41</td>\n",
       "      <td>1</td>\n",
       "      <td>83807.86</td>\n",
       "      <td>1</td>\n",
       "      <td>0</td>\n",
       "      <td>1</td>\n",
       "      <td>112542.58</td>\n",
       "      <td>0</td>\n",
       "    </tr>\n",
       "    <tr>\n",
       "      <th>2</th>\n",
       "      <td>3</td>\n",
       "      <td>15619304</td>\n",
       "      <td>Onio</td>\n",
       "      <td>502</td>\n",
       "      <td>France</td>\n",
       "      <td>Female</td>\n",
       "      <td>42</td>\n",
       "      <td>8</td>\n",
       "      <td>159660.80</td>\n",
       "      <td>3</td>\n",
       "      <td>1</td>\n",
       "      <td>0</td>\n",
       "      <td>113931.57</td>\n",
       "      <td>1</td>\n",
       "    </tr>\n",
       "    <tr>\n",
       "      <th>3</th>\n",
       "      <td>4</td>\n",
       "      <td>15701354</td>\n",
       "      <td>Boni</td>\n",
       "      <td>699</td>\n",
       "      <td>France</td>\n",
       "      <td>Female</td>\n",
       "      <td>39</td>\n",
       "      <td>1</td>\n",
       "      <td>0.00</td>\n",
       "      <td>2</td>\n",
       "      <td>0</td>\n",
       "      <td>0</td>\n",
       "      <td>93826.63</td>\n",
       "      <td>0</td>\n",
       "    </tr>\n",
       "    <tr>\n",
       "      <th>4</th>\n",
       "      <td>5</td>\n",
       "      <td>15737888</td>\n",
       "      <td>Mitchell</td>\n",
       "      <td>850</td>\n",
       "      <td>Spain</td>\n",
       "      <td>Female</td>\n",
       "      <td>43</td>\n",
       "      <td>2</td>\n",
       "      <td>125510.82</td>\n",
       "      <td>1</td>\n",
       "      <td>1</td>\n",
       "      <td>1</td>\n",
       "      <td>79084.10</td>\n",
       "      <td>0</td>\n",
       "    </tr>\n",
       "  </tbody>\n",
       "</table>\n",
       "</div>"
      ],
      "text/plain": [
       "   RowNumber  CustomerId   Surname  CreditScore Geography  Gender  Age  \\\n",
       "0          1    15634602  Hargrave          619    France  Female   42   \n",
       "1          2    15647311      Hill          608     Spain  Female   41   \n",
       "2          3    15619304      Onio          502    France  Female   42   \n",
       "3          4    15701354      Boni          699    France  Female   39   \n",
       "4          5    15737888  Mitchell          850     Spain  Female   43   \n",
       "\n",
       "   Tenure    Balance  NumOfProducts  HasCrCard  IsActiveMember  \\\n",
       "0       2       0.00              1          1               1   \n",
       "1       1   83807.86              1          0               1   \n",
       "2       8  159660.80              3          1               0   \n",
       "3       1       0.00              2          0               0   \n",
       "4       2  125510.82              1          1               1   \n",
       "\n",
       "   EstimatedSalary  Exited  \n",
       "0        101348.88       1  \n",
       "1        112542.58       0  \n",
       "2        113931.57       1  \n",
       "3         93826.63       0  \n",
       "4         79084.10       0  "
      ]
     },
     "execution_count": 30,
     "metadata": {},
     "output_type": "execute_result"
    }
   ],
   "source": [
    "df = pd.read_csv('Churn_Modelling.csv')\n",
    "df.head()"
   ]
  },
  {
   "cell_type": "code",
   "execution_count": 31,
   "id": "intimate-castle",
   "metadata": {
    "execution": {
     "iopub.execute_input": "2021-11-09T08:07:21.875917Z",
     "iopub.status.busy": "2021-11-09T08:07:21.875244Z",
     "iopub.status.idle": "2021-11-09T08:07:21.938298Z",
     "shell.execute_reply": "2021-11-09T08:07:21.938757Z",
     "shell.execute_reply.started": "2021-11-09T08:03:11.668217Z"
    },
    "papermill": {
     "duration": 0.098101,
     "end_time": "2021-11-09T08:07:21.938950",
     "exception": false,
     "start_time": "2021-11-09T08:07:21.840849",
     "status": "completed"
    },
    "tags": []
   },
   "outputs": [
    {
     "data": {
      "text/html": [
       "<div>\n",
       "<style scoped>\n",
       "    .dataframe tbody tr th:only-of-type {\n",
       "        vertical-align: middle;\n",
       "    }\n",
       "\n",
       "    .dataframe tbody tr th {\n",
       "        vertical-align: top;\n",
       "    }\n",
       "\n",
       "    .dataframe thead th {\n",
       "        text-align: right;\n",
       "    }\n",
       "</style>\n",
       "<table border=\"1\" class=\"dataframe\">\n",
       "  <thead>\n",
       "    <tr style=\"text-align: right;\">\n",
       "      <th></th>\n",
       "      <th>RowNumber</th>\n",
       "      <th>CustomerId</th>\n",
       "      <th>CreditScore</th>\n",
       "      <th>Age</th>\n",
       "      <th>Tenure</th>\n",
       "      <th>Balance</th>\n",
       "      <th>NumOfProducts</th>\n",
       "      <th>HasCrCard</th>\n",
       "      <th>IsActiveMember</th>\n",
       "      <th>EstimatedSalary</th>\n",
       "      <th>Exited</th>\n",
       "    </tr>\n",
       "  </thead>\n",
       "  <tbody>\n",
       "    <tr>\n",
       "      <th>count</th>\n",
       "      <td>10000.00000</td>\n",
       "      <td>1.000000e+04</td>\n",
       "      <td>10000.000000</td>\n",
       "      <td>10000.000000</td>\n",
       "      <td>10000.000000</td>\n",
       "      <td>10000.000000</td>\n",
       "      <td>10000.000000</td>\n",
       "      <td>10000.00000</td>\n",
       "      <td>10000.000000</td>\n",
       "      <td>10000.000000</td>\n",
       "      <td>10000.000000</td>\n",
       "    </tr>\n",
       "    <tr>\n",
       "      <th>mean</th>\n",
       "      <td>5000.50000</td>\n",
       "      <td>1.569094e+07</td>\n",
       "      <td>650.528800</td>\n",
       "      <td>38.921800</td>\n",
       "      <td>5.012800</td>\n",
       "      <td>76485.889288</td>\n",
       "      <td>1.530200</td>\n",
       "      <td>0.70550</td>\n",
       "      <td>0.515100</td>\n",
       "      <td>100090.239881</td>\n",
       "      <td>0.203700</td>\n",
       "    </tr>\n",
       "    <tr>\n",
       "      <th>std</th>\n",
       "      <td>2886.89568</td>\n",
       "      <td>7.193619e+04</td>\n",
       "      <td>96.653299</td>\n",
       "      <td>10.487806</td>\n",
       "      <td>2.892174</td>\n",
       "      <td>62397.405202</td>\n",
       "      <td>0.581654</td>\n",
       "      <td>0.45584</td>\n",
       "      <td>0.499797</td>\n",
       "      <td>57510.492818</td>\n",
       "      <td>0.402769</td>\n",
       "    </tr>\n",
       "    <tr>\n",
       "      <th>min</th>\n",
       "      <td>1.00000</td>\n",
       "      <td>1.556570e+07</td>\n",
       "      <td>350.000000</td>\n",
       "      <td>18.000000</td>\n",
       "      <td>0.000000</td>\n",
       "      <td>0.000000</td>\n",
       "      <td>1.000000</td>\n",
       "      <td>0.00000</td>\n",
       "      <td>0.000000</td>\n",
       "      <td>11.580000</td>\n",
       "      <td>0.000000</td>\n",
       "    </tr>\n",
       "    <tr>\n",
       "      <th>25%</th>\n",
       "      <td>2500.75000</td>\n",
       "      <td>1.562853e+07</td>\n",
       "      <td>584.000000</td>\n",
       "      <td>32.000000</td>\n",
       "      <td>3.000000</td>\n",
       "      <td>0.000000</td>\n",
       "      <td>1.000000</td>\n",
       "      <td>0.00000</td>\n",
       "      <td>0.000000</td>\n",
       "      <td>51002.110000</td>\n",
       "      <td>0.000000</td>\n",
       "    </tr>\n",
       "    <tr>\n",
       "      <th>50%</th>\n",
       "      <td>5000.50000</td>\n",
       "      <td>1.569074e+07</td>\n",
       "      <td>652.000000</td>\n",
       "      <td>37.000000</td>\n",
       "      <td>5.000000</td>\n",
       "      <td>97198.540000</td>\n",
       "      <td>1.000000</td>\n",
       "      <td>1.00000</td>\n",
       "      <td>1.000000</td>\n",
       "      <td>100193.915000</td>\n",
       "      <td>0.000000</td>\n",
       "    </tr>\n",
       "    <tr>\n",
       "      <th>75%</th>\n",
       "      <td>7500.25000</td>\n",
       "      <td>1.575323e+07</td>\n",
       "      <td>718.000000</td>\n",
       "      <td>44.000000</td>\n",
       "      <td>7.000000</td>\n",
       "      <td>127644.240000</td>\n",
       "      <td>2.000000</td>\n",
       "      <td>1.00000</td>\n",
       "      <td>1.000000</td>\n",
       "      <td>149388.247500</td>\n",
       "      <td>0.000000</td>\n",
       "    </tr>\n",
       "    <tr>\n",
       "      <th>max</th>\n",
       "      <td>10000.00000</td>\n",
       "      <td>1.581569e+07</td>\n",
       "      <td>850.000000</td>\n",
       "      <td>92.000000</td>\n",
       "      <td>10.000000</td>\n",
       "      <td>250898.090000</td>\n",
       "      <td>4.000000</td>\n",
       "      <td>1.00000</td>\n",
       "      <td>1.000000</td>\n",
       "      <td>199992.480000</td>\n",
       "      <td>1.000000</td>\n",
       "    </tr>\n",
       "  </tbody>\n",
       "</table>\n",
       "</div>"
      ],
      "text/plain": [
       "         RowNumber    CustomerId   CreditScore           Age        Tenure  \\\n",
       "count  10000.00000  1.000000e+04  10000.000000  10000.000000  10000.000000   \n",
       "mean    5000.50000  1.569094e+07    650.528800     38.921800      5.012800   \n",
       "std     2886.89568  7.193619e+04     96.653299     10.487806      2.892174   \n",
       "min        1.00000  1.556570e+07    350.000000     18.000000      0.000000   \n",
       "25%     2500.75000  1.562853e+07    584.000000     32.000000      3.000000   \n",
       "50%     5000.50000  1.569074e+07    652.000000     37.000000      5.000000   \n",
       "75%     7500.25000  1.575323e+07    718.000000     44.000000      7.000000   \n",
       "max    10000.00000  1.581569e+07    850.000000     92.000000     10.000000   \n",
       "\n",
       "             Balance  NumOfProducts    HasCrCard  IsActiveMember  \\\n",
       "count   10000.000000   10000.000000  10000.00000    10000.000000   \n",
       "mean    76485.889288       1.530200      0.70550        0.515100   \n",
       "std     62397.405202       0.581654      0.45584        0.499797   \n",
       "min         0.000000       1.000000      0.00000        0.000000   \n",
       "25%         0.000000       1.000000      0.00000        0.000000   \n",
       "50%     97198.540000       1.000000      1.00000        1.000000   \n",
       "75%    127644.240000       2.000000      1.00000        1.000000   \n",
       "max    250898.090000       4.000000      1.00000        1.000000   \n",
       "\n",
       "       EstimatedSalary        Exited  \n",
       "count     10000.000000  10000.000000  \n",
       "mean     100090.239881      0.203700  \n",
       "std       57510.492818      0.402769  \n",
       "min          11.580000      0.000000  \n",
       "25%       51002.110000      0.000000  \n",
       "50%      100193.915000      0.000000  \n",
       "75%      149388.247500      0.000000  \n",
       "max      199992.480000      1.000000  "
      ]
     },
     "execution_count": 31,
     "metadata": {},
     "output_type": "execute_result"
    }
   ],
   "source": [
    "df.describe()"
   ]
  },
  {
   "cell_type": "code",
   "execution_count": 32,
   "id": "identical-throat",
   "metadata": {
    "execution": {
     "iopub.execute_input": "2021-11-09T08:07:21.993288Z",
     "iopub.status.busy": "2021-11-09T08:07:21.992621Z",
     "iopub.status.idle": "2021-11-09T08:07:22.011182Z",
     "shell.execute_reply": "2021-11-09T08:07:22.011673Z",
     "shell.execute_reply.started": "2021-11-09T08:03:11.720235Z"
    },
    "papermill": {
     "duration": 0.048326,
     "end_time": "2021-11-09T08:07:22.011871",
     "exception": false,
     "start_time": "2021-11-09T08:07:21.963545",
     "status": "completed"
    },
    "tags": []
   },
   "outputs": [
    {
     "name": "stdout",
     "output_type": "stream",
     "text": [
      "<class 'pandas.core.frame.DataFrame'>\n",
      "RangeIndex: 10000 entries, 0 to 9999\n",
      "Data columns (total 14 columns):\n",
      " #   Column           Non-Null Count  Dtype  \n",
      "---  ------           --------------  -----  \n",
      " 0   RowNumber        10000 non-null  int64  \n",
      " 1   CustomerId       10000 non-null  int64  \n",
      " 2   Surname          10000 non-null  object \n",
      " 3   CreditScore      10000 non-null  int64  \n",
      " 4   Geography        10000 non-null  object \n",
      " 5   Gender           10000 non-null  object \n",
      " 6   Age              10000 non-null  int64  \n",
      " 7   Tenure           10000 non-null  int64  \n",
      " 8   Balance          10000 non-null  float64\n",
      " 9   NumOfProducts    10000 non-null  int64  \n",
      " 10  HasCrCard        10000 non-null  int64  \n",
      " 11  IsActiveMember   10000 non-null  int64  \n",
      " 12  EstimatedSalary  10000 non-null  float64\n",
      " 13  Exited           10000 non-null  int64  \n",
      "dtypes: float64(2), int64(9), object(3)\n",
      "memory usage: 1.1+ MB\n"
     ]
    }
   ],
   "source": [
    "df.info()"
   ]
  },
  {
   "cell_type": "code",
   "execution_count": 33,
   "id": "entire-faith",
   "metadata": {
    "execution": {
     "iopub.execute_input": "2021-11-09T08:07:22.115138Z",
     "iopub.status.busy": "2021-11-09T08:07:22.114514Z",
     "iopub.status.idle": "2021-11-09T08:07:22.125450Z",
     "shell.execute_reply": "2021-11-09T08:07:22.124769Z",
     "shell.execute_reply.started": "2021-11-09T08:03:11.740022Z"
    },
    "papermill": {
     "duration": 0.039422,
     "end_time": "2021-11-09T08:07:22.125593",
     "exception": false,
     "start_time": "2021-11-09T08:07:22.086171",
     "status": "completed"
    },
    "tags": []
   },
   "outputs": [
    {
     "data": {
      "text/plain": [
       "RowNumber          0\n",
       "CustomerId         0\n",
       "Surname            0\n",
       "CreditScore        0\n",
       "Geography          0\n",
       "Gender             0\n",
       "Age                0\n",
       "Tenure             0\n",
       "Balance            0\n",
       "NumOfProducts      0\n",
       "HasCrCard          0\n",
       "IsActiveMember     0\n",
       "EstimatedSalary    0\n",
       "Exited             0\n",
       "dtype: int64"
      ]
     },
     "execution_count": 33,
     "metadata": {},
     "output_type": "execute_result"
    }
   ],
   "source": [
    "# checking for null values\n",
    "\n",
    "df.isna().sum()"
   ]
  },
  {
   "cell_type": "code",
   "execution_count": 34,
   "id": "fitted-ticket",
   "metadata": {
    "execution": {
     "iopub.execute_input": "2021-11-09T08:07:22.199359Z",
     "iopub.status.busy": "2021-11-09T08:07:22.191850Z",
     "iopub.status.idle": "2021-11-09T08:07:22.345985Z",
     "shell.execute_reply": "2021-11-09T08:07:22.345317Z",
     "shell.execute_reply.started": "2021-11-09T08:03:11.754396Z"
    },
    "papermill": {
     "duration": 0.195303,
     "end_time": "2021-11-09T08:07:22.346135",
     "exception": false,
     "start_time": "2021-11-09T08:07:22.150832",
     "status": "completed"
    },
    "tags": []
   },
   "outputs": [
    {
     "data": {
      "image/png": "[encoded data removed]",
      "text/plain": [
       "<Figure size 400x300 with 1 Axes>"
      ]
     },
     "metadata": {},
     "output_type": "display_data"
    }
   ],
   "source": [
    "values = df.Exited.value_counts()\n",
    "labels = ['Not Exited', 'Exited']\n",
    "\n",
    "fig, ax = plt.subplots(figsize = (4, 3), dpi = 100)\n",
    "explode = (0, 0.09)\n",
    "\n",
    "patches, texts, autotexts = ax.pie(values, labels = labels, autopct = '%1.2f%%', shadow = True,\n",
    "                                   startangle = 90, explode = explode)\n",
    "\n",
    "plt.setp(texts, color = 'grey')\n",
    "plt.setp(autotexts, size = 8, color = 'white')\n",
    "autotexts[1].set_color('black')\n",
    "plt.show()"
   ]
  },
  {
   "cell_type": "code",
   "execution_count": 35,
   "id": "unsigned-hampton",
   "metadata": {
    "execution": {
     "iopub.execute_input": "2021-11-09T08:07:22.476590Z",
     "iopub.status.busy": "2021-11-09T08:07:22.473367Z",
     "iopub.status.idle": "2021-11-09T08:07:23.857769Z",
     "shell.execute_reply": "2021-11-09T08:07:23.858463Z",
     "shell.execute_reply.started": "2021-11-09T08:03:11.870753Z"
    },
    "papermill": {
     "duration": 1.433815,
     "end_time": "2021-11-09T08:07:23.858700",
     "exception": false,
     "start_time": "2021-11-09T08:07:22.424885",
     "status": "completed"
    },
    "tags": []
   },
   "outputs": [
    {
     "data": {
      "image/png": "[encoded data removed]",
      "text/plain": [
       "<Figure size 1296x1080 with 6 Axes>"
      ]
     },
     "metadata": {
      "needs_background": "light"
     },
     "output_type": "display_data"
    }
   ],
   "source": [
    "# visualizing categorical variables\n",
    "\n",
    "fig, ax = plt.subplots(3, 2, figsize = (18, 15))\n",
    "\n",
    "sns.countplot('Geography', hue = 'Exited', data = df, ax = ax[0][0])\n",
    "sns.countplot('Gender', hue = 'Exited', data = df, ax = ax[0][1])\n",
    "sns.countplot('Tenure', hue = 'Exited', data = df, ax = ax[1][0])\n",
    "sns.countplot('NumOfProducts', hue = 'Exited', data = df, ax = ax[1][1])\n",
    "sns.countplot('HasCrCard', hue = 'Exited', data = df, ax = ax[2][0])\n",
    "sns.countplot('IsActiveMember', hue = 'Exited', data = df, ax = ax[2][1])\n",
    "\n",
    "plt.tight_layout()\n",
    "plt.show()"
   ]
  },
  {
   "cell_type": "code",
   "execution_count": 36,
   "id": "external-gather",
   "metadata": {
    "execution": {
     "iopub.execute_input": "2021-11-09T08:07:24.011056Z",
     "iopub.status.busy": "2021-11-09T08:07:23.999555Z",
     "iopub.status.idle": "2021-11-09T08:07:24.674798Z",
     "shell.execute_reply": "2021-11-09T08:07:24.674297Z",
     "shell.execute_reply.started": "2021-11-09T08:03:12.960078Z"
    },
    "papermill": {
     "duration": 0.725288,
     "end_time": "2021-11-09T08:07:24.674960",
     "exception": false,
     "start_time": "2021-11-09T08:07:23.949672",
     "status": "completed"
    },
    "tags": []
   },
   "outputs": [
    {
     "data": {
      "image/png": "[encoded data removed]",
      "text/plain": [
       "<Figure size 1152x720 with 4 Axes>"
      ]
     },
     "metadata": {
      "needs_background": "light"
     },
     "output_type": "display_data"
    }
   ],
   "source": [
    "# visualizing continuous variables\n",
    "\n",
    "fig, ax = plt.subplots(2, 2, figsize = (16, 10))\n",
    "\n",
    "sns.boxplot(x = 'Exited', y = 'CreditScore', data = df, ax = ax[0][0])\n",
    "sns.boxplot(x = 'Exited', y = 'Age', data = df, ax = ax[0][1])\n",
    "sns.boxplot(x = 'Exited', y = 'Balance', data = df, ax = ax[1][0])\n",
    "sns.boxplot(x = 'Exited', y = 'EstimatedSalary', data = df, ax = ax[1][1])\n",
    "\n",
    "plt.tight_layout()\n",
    "plt.show()"
   ]
  },
  {
   "cell_type": "code",
   "execution_count": 37,
   "id": "sacred-helen",
   "metadata": {
    "execution": {
     "iopub.execute_input": "2021-11-09T08:07:24.795305Z",
     "iopub.status.busy": "2021-11-09T08:07:24.794636Z",
     "iopub.status.idle": "2021-11-09T08:07:25.677326Z",
     "shell.execute_reply": "2021-11-09T08:07:25.677762Z",
     "shell.execute_reply.started": "2021-11-09T08:03:13.562480Z"
    },
    "papermill": {
     "duration": 0.91563,
     "end_time": "2021-11-09T08:07:25.677997",
     "exception": false,
     "start_time": "2021-11-09T08:07:24.762367",
     "status": "completed"
    },
    "tags": []
   },
   "outputs": [
    {
     "data": {
      "image/png": "[encoded data removed]",
      "text/plain": [
       "<Figure size 1440x864 with 2 Axes>"
      ]
     },
     "metadata": {
      "needs_background": "light"
     },
     "output_type": "display_data"
    }
   ],
   "source": [
    "# heatmap \n",
    "\n",
    "plt.figure(figsize = (20, 12))\n",
    "\n",
    "corr = df.corr()\n",
    "\n",
    "sns.heatmap(corr, linewidths = 1, annot = True, fmt = \".2f\")\n",
    "plt.show()"
   ]
  },
  {
   "cell_type": "code",
   "execution_count": 38,
   "id": "civilian-venture",
   "metadata": {
    "execution": {
     "iopub.execute_input": "2021-11-09T08:07:25.823678Z",
     "iopub.status.busy": "2021-11-09T08:07:25.823023Z",
     "iopub.status.idle": "2021-11-09T08:07:25.827323Z",
     "shell.execute_reply": "2021-11-09T08:07:25.827784Z",
     "shell.execute_reply.started": "2021-11-09T08:03:14.367034Z"
    },
    "papermill": {
     "duration": 0.054665,
     "end_time": "2021-11-09T08:07:25.827992",
     "exception": false,
     "start_time": "2021-11-09T08:07:25.773327",
     "status": "completed"
    },
    "tags": []
   },
   "outputs": [
    {
     "data": {
      "text/html": [
       "<div>\n",
       "<style scoped>\n",
       "    .dataframe tbody tr th:only-of-type {\n",
       "        vertical-align: middle;\n",
       "    }\n",
       "\n",
       "    .dataframe tbody tr th {\n",
       "        vertical-align: top;\n",
       "    }\n",
       "\n",
       "    .dataframe thead th {\n",
       "        text-align: right;\n",
       "    }\n",
       "</style>\n",
       "<table border=\"1\" class=\"dataframe\">\n",
       "  <thead>\n",
       "    <tr style=\"text-align: right;\">\n",
       "      <th></th>\n",
       "      <th>CreditScore</th>\n",
       "      <th>Geography</th>\n",
       "      <th>Gender</th>\n",
       "      <th>Age</th>\n",
       "      <th>Tenure</th>\n",
       "      <th>Balance</th>\n",
       "      <th>NumOfProducts</th>\n",
       "      <th>HasCrCard</th>\n",
       "      <th>IsActiveMember</th>\n",
       "      <th>EstimatedSalary</th>\n",
       "      <th>Exited</th>\n",
       "    </tr>\n",
       "  </thead>\n",
       "  <tbody>\n",
       "    <tr>\n",
       "      <th>0</th>\n",
       "      <td>619</td>\n",
       "      <td>France</td>\n",
       "      <td>Female</td>\n",
       "      <td>42</td>\n",
       "      <td>2</td>\n",
       "      <td>0.00</td>\n",
       "      <td>1</td>\n",
       "      <td>1</td>\n",
       "      <td>1</td>\n",
       "      <td>101348.88</td>\n",
       "      <td>1</td>\n",
       "    </tr>\n",
       "    <tr>\n",
       "      <th>1</th>\n",
       "      <td>608</td>\n",
       "      <td>Spain</td>\n",
       "      <td>Female</td>\n",
       "      <td>41</td>\n",
       "      <td>1</td>\n",
       "      <td>83807.86</td>\n",
       "      <td>1</td>\n",
       "      <td>0</td>\n",
       "      <td>1</td>\n",
       "      <td>112542.58</td>\n",
       "      <td>0</td>\n",
       "    </tr>\n",
       "    <tr>\n",
       "      <th>2</th>\n",
       "      <td>502</td>\n",
       "      <td>France</td>\n",
       "      <td>Female</td>\n",
       "      <td>42</td>\n",
       "      <td>8</td>\n",
       "      <td>159660.80</td>\n",
       "      <td>3</td>\n",
       "      <td>1</td>\n",
       "      <td>0</td>\n",
       "      <td>113931.57</td>\n",
       "      <td>1</td>\n",
       "    </tr>\n",
       "    <tr>\n",
       "      <th>3</th>\n",
       "      <td>699</td>\n",
       "      <td>France</td>\n",
       "      <td>Female</td>\n",
       "      <td>39</td>\n",
       "      <td>1</td>\n",
       "      <td>0.00</td>\n",
       "      <td>2</td>\n",
       "      <td>0</td>\n",
       "      <td>0</td>\n",
       "      <td>93826.63</td>\n",
       "      <td>0</td>\n",
       "    </tr>\n",
       "    <tr>\n",
       "      <th>4</th>\n",
       "      <td>850</td>\n",
       "      <td>Spain</td>\n",
       "      <td>Female</td>\n",
       "      <td>43</td>\n",
       "      <td>2</td>\n",
       "      <td>125510.82</td>\n",
       "      <td>1</td>\n",
       "      <td>1</td>\n",
       "      <td>1</td>\n",
       "      <td>79084.10</td>\n",
       "      <td>0</td>\n",
       "    </tr>\n",
       "  </tbody>\n",
       "</table>\n",
       "</div>"
      ],
      "text/plain": [
       "   CreditScore Geography  Gender  Age  Tenure    Balance  NumOfProducts  \\\n",
       "0          619    France  Female   42       2       0.00              1   \n",
       "1          608     Spain  Female   41       1   83807.86              1   \n",
       "2          502    France  Female   42       8  159660.80              3   \n",
       "3          699    France  Female   39       1       0.00              2   \n",
       "4          850     Spain  Female   43       2  125510.82              1   \n",
       "\n",
       "   HasCrCard  IsActiveMember  EstimatedSalary  Exited  \n",
       "0          1               1        101348.88       1  \n",
       "1          0               1        112542.58       0  \n",
       "2          1               0        113931.57       1  \n",
       "3          0               0         93826.63       0  \n",
       "4          1               1         79084.10       0  "
      ]
     },
     "execution_count": 38,
     "metadata": {},
     "output_type": "execute_result"
    }
   ],
   "source": [
    "# dropping useless columns \n",
    "\n",
    "df.drop(columns = ['RowNumber', 'CustomerId', 'Surname'], axis = 1, inplace = True)\n",
    "df.head()"
   ]
  },
  {
   "cell_type": "code",
   "execution_count": 39,
   "id": "biological-credits",
   "metadata": {
    "execution": {
     "iopub.execute_input": "2021-11-09T08:07:25.895353Z",
     "iopub.status.busy": "2021-11-09T08:07:25.894412Z",
     "iopub.status.idle": "2021-11-09T08:07:25.904784Z",
     "shell.execute_reply": "2021-11-09T08:07:25.905368Z",
     "shell.execute_reply.started": "2021-11-09T08:03:14.385437Z"
    },
    "papermill": {
     "duration": 0.045479,
     "end_time": "2021-11-09T08:07:25.905548",
     "exception": false,
     "start_time": "2021-11-09T08:07:25.860069",
     "status": "completed"
    },
    "tags": []
   },
   "outputs": [
    {
     "data": {
      "text/plain": [
       "France     5014\n",
       "Germany    2509\n",
       "Spain      2477\n",
       "Name: Geography, dtype: int64"
      ]
     },
     "execution_count": 39,
     "metadata": {},
     "output_type": "execute_result"
    }
   ],
   "source": [
    "df.Geography.value_counts()"
   ]
  },
  {
   "cell_type": "code",
   "execution_count": 40,
   "id": "mounted-roads",
   "metadata": {
    "execution": {
     "iopub.execute_input": "2021-11-09T08:07:25.974194Z",
     "iopub.status.busy": "2021-11-09T08:07:25.973240Z",
     "iopub.status.idle": "2021-11-09T08:07:25.983179Z",
     "shell.execute_reply": "2021-11-09T08:07:25.983626Z",
     "shell.execute_reply.started": "2021-11-09T08:03:14.394303Z"
    },
    "papermill": {
     "duration": 0.046273,
     "end_time": "2021-11-09T08:07:25.983805",
     "exception": false,
     "start_time": "2021-11-09T08:07:25.937532",
     "status": "completed"
    },
    "tags": []
   },
   "outputs": [],
   "source": [
    "# Encoding categorical variables\n",
    "\n",
    "df['Geography'] = df['Geography'].map({'France' : 0, 'Germany' : 1, 'Spain' : 2})\n",
    "df['Gender'] = df['Gender'].map({'Male' : 0, 'Female' : 1})"
   ]
  },
  {
   "cell_type": "code",
   "execution_count": 41,
   "id": "viral-biotechnology",
   "metadata": {
    "execution": {
     "iopub.execute_input": "2021-11-09T08:07:26.057001Z",
     "iopub.status.busy": "2021-11-09T08:07:26.056003Z",
     "iopub.status.idle": "2021-11-09T08:07:26.065629Z",
     "shell.execute_reply": "2021-11-09T08:07:26.066185Z",
     "shell.execute_reply.started": "2021-11-09T08:03:14.410318Z"
    },
    "papermill": {
     "duration": 0.050535,
     "end_time": "2021-11-09T08:07:26.066357",
     "exception": false,
     "start_time": "2021-11-09T08:07:26.015822",
     "status": "completed"
    },
    "tags": []
   },
   "outputs": [
    {
     "data": {
      "text/html": [
       "<div>\n",
       "<style scoped>\n",
       "    .dataframe tbody tr th:only-of-type {\n",
       "        vertical-align: middle;\n",
       "    }\n",
       "\n",
       "    .dataframe tbody tr th {\n",
       "        vertical-align: top;\n",
       "    }\n",
       "\n",
       "    .dataframe thead th {\n",
       "        text-align: right;\n",
       "    }\n",
       "</style>\n",
       "<table border=\"1\" class=\"dataframe\">\n",
       "  <thead>\n",
       "    <tr style=\"text-align: right;\">\n",
       "      <th></th>\n",
       "      <th>CreditScore</th>\n",
       "      <th>Geography</th>\n",
       "      <th>Gender</th>\n",
       "      <th>Age</th>\n",
       "      <th>Tenure</th>\n",
       "      <th>Balance</th>\n",
       "      <th>NumOfProducts</th>\n",
       "      <th>HasCrCard</th>\n",
       "      <th>IsActiveMember</th>\n",
       "      <th>EstimatedSalary</th>\n",
       "      <th>Exited</th>\n",
       "    </tr>\n",
       "  </thead>\n",
       "  <tbody>\n",
       "    <tr>\n",
       "      <th>0</th>\n",
       "      <td>619</td>\n",
       "      <td>0</td>\n",
       "      <td>1</td>\n",
       "      <td>42</td>\n",
       "      <td>2</td>\n",
       "      <td>0.00</td>\n",
       "      <td>1</td>\n",
       "      <td>1</td>\n",
       "      <td>1</td>\n",
       "      <td>101348.88</td>\n",
       "      <td>1</td>\n",
       "    </tr>\n",
       "    <tr>\n",
       "      <th>1</th>\n",
       "      <td>608</td>\n",
       "      <td>2</td>\n",
       "      <td>1</td>\n",
       "      <td>41</td>\n",
       "      <td>1</td>\n",
       "      <td>83807.86</td>\n",
       "      <td>1</td>\n",
       "      <td>0</td>\n",
       "      <td>1</td>\n",
       "      <td>112542.58</td>\n",
       "      <td>0</td>\n",
       "    </tr>\n",
       "    <tr>\n",
       "      <th>2</th>\n",
       "      <td>502</td>\n",
       "      <td>0</td>\n",
       "      <td>1</td>\n",
       "      <td>42</td>\n",
       "      <td>8</td>\n",
       "      <td>159660.80</td>\n",
       "      <td>3</td>\n",
       "      <td>1</td>\n",
       "      <td>0</td>\n",
       "      <td>113931.57</td>\n",
       "      <td>1</td>\n",
       "    </tr>\n",
       "    <tr>\n",
       "      <th>3</th>\n",
       "      <td>699</td>\n",
       "      <td>0</td>\n",
       "      <td>1</td>\n",
       "      <td>39</td>\n",
       "      <td>1</td>\n",
       "      <td>0.00</td>\n",
       "      <td>2</td>\n",
       "      <td>0</td>\n",
       "      <td>0</td>\n",
       "      <td>93826.63</td>\n",
       "      <td>0</td>\n",
       "    </tr>\n",
       "    <tr>\n",
       "      <th>4</th>\n",
       "      <td>850</td>\n",
       "      <td>2</td>\n",
       "      <td>1</td>\n",
       "      <td>43</td>\n",
       "      <td>2</td>\n",
       "      <td>125510.82</td>\n",
       "      <td>1</td>\n",
       "      <td>1</td>\n",
       "      <td>1</td>\n",
       "      <td>79084.10</td>\n",
       "      <td>0</td>\n",
       "    </tr>\n",
       "  </tbody>\n",
       "</table>\n",
       "</div>"
      ],
      "text/plain": [
       "   CreditScore  Geography  Gender  Age  Tenure    Balance  NumOfProducts  \\\n",
       "0          619          0       1   42       2       0.00              1   \n",
       "1          608          2       1   41       1   83807.86              1   \n",
       "2          502          0       1   42       8  159660.80              3   \n",
       "3          699          0       1   39       1       0.00              2   \n",
       "4          850          2       1   43       2  125510.82              1   \n",
       "\n",
       "   HasCrCard  IsActiveMember  EstimatedSalary  Exited  \n",
       "0          1               1        101348.88       1  \n",
       "1          0               1        112542.58       0  \n",
       "2          1               0        113931.57       1  \n",
       "3          0               0         93826.63       0  \n",
       "4          1               1         79084.10       0  "
      ]
     },
     "execution_count": 41,
     "metadata": {},
     "output_type": "execute_result"
    }
   ],
   "source": [
    "df.head()"
   ]
  },
  {
   "cell_type": "code",
   "execution_count": 42,
   "id": "experimental-third",
   "metadata": {
    "execution": {
     "iopub.execute_input": "2021-11-09T08:07:26.134990Z",
     "iopub.status.busy": "2021-11-09T08:07:26.134005Z",
     "iopub.status.idle": "2021-11-09T08:07:31.535732Z",
     "shell.execute_reply": "2021-11-09T08:07:31.536223Z",
     "shell.execute_reply.started": "2021-11-09T08:03:14.430304Z"
    },
    "papermill": {
     "duration": 5.437688,
     "end_time": "2021-11-09T08:07:31.536406",
     "exception": false,
     "start_time": "2021-11-09T08:07:26.098718",
     "status": "completed"
    },
    "tags": []
   },
   "outputs": [],
   "source": [
    "# creating features and label \n",
    "\n",
    "from tensorflow.keras.utils import to_categorical\n",
    "\n",
    "X = df.drop('Exited', axis = 1)\n",
    "y = to_categorical(df.Exited)"
   ]
  },
  {
   "cell_type": "code",
   "execution_count": 43,
   "id": "blond-stage",
   "metadata": {
    "execution": {
     "iopub.execute_input": "2021-11-09T08:07:31.605528Z",
     "iopub.status.busy": "2021-11-09T08:07:31.604585Z",
     "iopub.status.idle": "2021-11-09T08:07:31.806292Z",
     "shell.execute_reply": "2021-11-09T08:07:31.805743Z",
     "shell.execute_reply.started": "2021-11-09T08:03:14.438257Z"
    },
    "papermill": {
     "duration": 0.237292,
     "end_time": "2021-11-09T08:07:31.806443",
     "exception": false,
     "start_time": "2021-11-09T08:07:31.569151",
     "status": "completed"
    },
    "tags": []
   },
   "outputs": [],
   "source": [
    "# splitting data into training set and test set\n",
    "\n",
    "from sklearn.model_selection import train_test_split\n",
    "\n",
    "X_train, X_test, y_train, y_test = train_test_split(X, y, test_size = 0.25)\n",
    "dupe = X_test.head()"
   ]
  },
  {
   "cell_type": "code",
   "execution_count": 44,
   "id": "ambient-making",
   "metadata": {
    "execution": {
     "iopub.execute_input": "2021-11-09T08:07:31.878905Z",
     "iopub.status.busy": "2021-11-09T08:07:31.878277Z",
     "iopub.status.idle": "2021-11-09T08:07:31.887642Z",
     "shell.execute_reply": "2021-11-09T08:07:31.888153Z",
     "shell.execute_reply.started": "2021-11-09T08:03:14.449718Z"
    },
    "papermill": {
     "duration": 0.048976,
     "end_time": "2021-11-09T08:07:31.888324",
     "exception": false,
     "start_time": "2021-11-09T08:07:31.839348",
     "status": "completed"
    },
    "tags": []
   },
   "outputs": [],
   "source": [
    "# Scaling data\n",
    "\n",
    "from sklearn.preprocessing import StandardScaler\n",
    "sc = StandardScaler()\n",
    "X_train = sc.fit_transform(X_train)\n",
    "X_test = sc.transform(X_test)"
   ]
  },
  {
   "cell_type": "code",
   "execution_count": 45,
   "id": "detected-comment",
   "metadata": {
    "execution": {
     "iopub.execute_input": "2021-11-09T08:07:32.022462Z",
     "iopub.status.busy": "2021-11-09T08:07:32.021431Z",
     "iopub.status.idle": "2021-11-09T08:08:09.065725Z",
     "shell.execute_reply": "2021-11-09T08:08:09.065122Z",
     "shell.execute_reply.started": "2021-11-09T08:03:14.466795Z"
    },
    "papermill": {
     "duration": 37.080087,
     "end_time": "2021-11-09T08:08:09.065887",
     "exception": false,
     "start_time": "2021-11-09T08:07:31.985800",
     "status": "completed"
    },
    "tags": []
   },
   "outputs": [
    {
     "name": "stdout",
     "output_type": "stream",
     "text": [
      "Epoch 1/100\n",
      "188/188 [==============================] - 20s 56ms/step - loss: 0.6193 - accuracy: 0.6937 - val_loss: 0.5778 - val_accuracy: 0.8027\n",
      "Epoch 2/100\n",
      "188/188 [==============================] - 8s 44ms/step - loss: 0.4777 - accuracy: 0.7962 - val_loss: 0.4574 - val_accuracy: 0.8133\n",
      "Epoch 3/100\n",
      "188/188 [==============================] - 7s 38ms/step - loss: 0.4041 - accuracy: 0.8313 - val_loss: 0.3871 - val_accuracy: 0.8553\n",
      "Epoch 4/100\n",
      "188/188 [==============================] - 8s 45ms/step - loss: 0.3775 - accuracy: 0.8458 - val_loss: 0.3829 - val_accuracy: 0.8540\n",
      "Epoch 5/100\n",
      "188/188 [==============================] - 8s 42ms/step - loss: 0.3814 - accuracy: 0.8383 - val_loss: 0.3730 - val_accuracy: 0.8547\n",
      "Epoch 6/100\n",
      "188/188 [==============================] - 9s 46ms/step - loss: 0.3785 - accuracy: 0.8445 - val_loss: 0.3712 - val_accuracy: 0.8560\n",
      "Epoch 7/100\n",
      "188/188 [==============================] - 8s 42ms/step - loss: 0.3808 - accuracy: 0.8410 - val_loss: 0.3686 - val_accuracy: 0.8587\n",
      "Epoch 8/100\n",
      "188/188 [==============================] - 8s 43ms/step - loss: 0.3700 - accuracy: 0.8427 - val_loss: 0.3685 - val_accuracy: 0.8580\n",
      "Epoch 9/100\n",
      "188/188 [==============================] - 6s 31ms/step - loss: 0.3706 - accuracy: 0.8433 - val_loss: 0.3757 - val_accuracy: 0.8553\n",
      "Epoch 10/100\n",
      "188/188 [==============================] - 6s 31ms/step - loss: 0.3724 - accuracy: 0.8445 - val_loss: 0.3669 - val_accuracy: 0.8567\n",
      "Epoch 11/100\n",
      "188/188 [==============================] - 5s 26ms/step - loss: 0.3709 - accuracy: 0.8472 - val_loss: 0.3687 - val_accuracy: 0.8540\n",
      "Epoch 12/100\n",
      "188/188 [==============================] - 5s 26ms/step - loss: 0.3671 - accuracy: 0.8450 - val_loss: 0.3692 - val_accuracy: 0.8533\n",
      "Epoch 13/100\n",
      "188/188 [==============================] - 11s 57ms/step - loss: 0.3744 - accuracy: 0.8455 - val_loss: 0.3679 - val_accuracy: 0.8567\n",
      "Epoch 14/100\n",
      "188/188 [==============================] - 4s 23ms/step - loss: 0.3635 - accuracy: 0.8502 - val_loss: 0.3621 - val_accuracy: 0.8567\n",
      "Epoch 15/100\n",
      "188/188 [==============================] - 7s 35ms/step - loss: 0.3704 - accuracy: 0.8502 - val_loss: 0.3630 - val_accuracy: 0.8587\n",
      "Epoch 16/100\n",
      "188/188 [==============================] - 9s 47ms/step - loss: 0.3734 - accuracy: 0.8468 - val_loss: 0.3648 - val_accuracy: 0.8553\n",
      "Epoch 17/100\n",
      "188/188 [==============================] - 5s 24ms/step - loss: 0.3675 - accuracy: 0.8442 - val_loss: 0.3656 - val_accuracy: 0.8593\n",
      "Epoch 18/100\n",
      "188/188 [==============================] - 4s 23ms/step - loss: 0.3706 - accuracy: 0.8462 - val_loss: 0.3627 - val_accuracy: 0.8593\n",
      "Epoch 19/100\n",
      "188/188 [==============================] - 4s 21ms/step - loss: 0.3718 - accuracy: 0.8468 - val_loss: 0.3669 - val_accuracy: 0.8513\n",
      "Epoch 20/100\n",
      "188/188 [==============================] - 4s 22ms/step - loss: 0.3672 - accuracy: 0.8458 - val_loss: 0.3662 - val_accuracy: 0.8593\n",
      "Epoch 21/100\n",
      "188/188 [==============================] - 4s 21ms/step - loss: 0.3699 - accuracy: 0.8470 - val_loss: 0.3665 - val_accuracy: 0.8573\n",
      "Epoch 22/100\n",
      "188/188 [==============================] - 4s 22ms/step - loss: 0.3712 - accuracy: 0.8470 - val_loss: 0.3614 - val_accuracy: 0.8587\n",
      "Epoch 23/100\n",
      "188/188 [==============================] - 4s 22ms/step - loss: 0.3723 - accuracy: 0.8440 - val_loss: 0.3612 - val_accuracy: 0.8573\n",
      "Epoch 24/100\n",
      "188/188 [==============================] - 4s 21ms/step - loss: 0.3686 - accuracy: 0.8468 - val_loss: 0.3592 - val_accuracy: 0.8607\n",
      "Epoch 25/100\n",
      "188/188 [==============================] - 4s 21ms/step - loss: 0.3654 - accuracy: 0.8465 - val_loss: 0.3676 - val_accuracy: 0.8573\n",
      "Epoch 26/100\n",
      "188/188 [==============================] - 4s 22ms/step - loss: 0.3651 - accuracy: 0.8510 - val_loss: 0.3610 - val_accuracy: 0.8573\n",
      "Epoch 27/100\n",
      "188/188 [==============================] - 4s 21ms/step - loss: 0.3642 - accuracy: 0.8488 - val_loss: 0.3630 - val_accuracy: 0.8607\n",
      "Epoch 28/100\n",
      "188/188 [==============================] - 4s 22ms/step - loss: 0.3624 - accuracy: 0.8507 - val_loss: 0.3626 - val_accuracy: 0.8607\n",
      "Epoch 29/100\n",
      "188/188 [==============================] - 4s 21ms/step - loss: 0.3609 - accuracy: 0.8455 - val_loss: 0.3616 - val_accuracy: 0.8587\n",
      "Epoch 30/100\n",
      "188/188 [==============================] - 4s 21ms/step - loss: 0.3611 - accuracy: 0.8498 - val_loss: 0.3648 - val_accuracy: 0.8593\n",
      "Epoch 31/100\n",
      "188/188 [==============================] - 4s 23ms/step - loss: 0.3626 - accuracy: 0.8478 - val_loss: 0.3617 - val_accuracy: 0.8573\n",
      "Epoch 32/100\n",
      "188/188 [==============================] - 4s 22ms/step - loss: 0.3652 - accuracy: 0.8492 - val_loss: 0.3616 - val_accuracy: 0.8547\n",
      "Epoch 33/100\n",
      "188/188 [==============================] - 4s 23ms/step - loss: 0.3653 - accuracy: 0.8483 - val_loss: 0.3625 - val_accuracy: 0.8580\n",
      "Epoch 34/100\n",
      "188/188 [==============================] - 4s 22ms/step - loss: 0.3641 - accuracy: 0.8480 - val_loss: 0.3616 - val_accuracy: 0.8620\n",
      "Epoch 35/100\n",
      "188/188 [==============================] - 4s 21ms/step - loss: 0.3625 - accuracy: 0.8478 - val_loss: 0.3633 - val_accuracy: 0.8587\n",
      "Epoch 36/100\n",
      "188/188 [==============================] - 4s 20ms/step - loss: 0.3624 - accuracy: 0.8487 - val_loss: 0.3650 - val_accuracy: 0.8587\n",
      "Epoch 37/100\n",
      "188/188 [==============================] - 4s 21ms/step - loss: 0.3666 - accuracy: 0.8473 - val_loss: 0.3602 - val_accuracy: 0.8607\n",
      "Epoch 38/100\n",
      "188/188 [==============================] - 4s 23ms/step - loss: 0.3669 - accuracy: 0.8462 - val_loss: 0.3595 - val_accuracy: 0.8593\n",
      "Epoch 39/100\n",
      "188/188 [==============================] - 4s 22ms/step - loss: 0.3632 - accuracy: 0.8492 - val_loss: 0.3622 - val_accuracy: 0.8580\n",
      "Epoch 40/100\n",
      "188/188 [==============================] - 4s 23ms/step - loss: 0.3618 - accuracy: 0.8508 - val_loss: 0.3630 - val_accuracy: 0.8620\n",
      "Epoch 41/100\n",
      "188/188 [==============================] - 4s 21ms/step - loss: 0.3659 - accuracy: 0.8502 - val_loss: 0.3597 - val_accuracy: 0.8600\n",
      "Epoch 42/100\n",
      "188/188 [==============================] - 4s 22ms/step - loss: 0.3610 - accuracy: 0.8533 - val_loss: 0.3643 - val_accuracy: 0.8613\n",
      "Epoch 43/100\n",
      "188/188 [==============================] - 7s 35ms/step - loss: 0.3628 - accuracy: 0.8482 - val_loss: 0.3629 - val_accuracy: 0.8593\n",
      "Epoch 44/100\n",
      "188/188 [==============================] - 7s 37ms/step - loss: 0.3579 - accuracy: 0.8510 - val_loss: 0.3596 - val_accuracy: 0.8587\n",
      "Epoch 45/100\n",
      "188/188 [==============================] - 4s 22ms/step - loss: 0.3594 - accuracy: 0.8497 - val_loss: 0.3624 - val_accuracy: 0.8607\n",
      "Epoch 46/100\n",
      "188/188 [==============================] - 4s 22ms/step - loss: 0.3621 - accuracy: 0.8490 - val_loss: 0.3641 - val_accuracy: 0.8580\n",
      "Epoch 47/100\n",
      "188/188 [==============================] - 4s 21ms/step - loss: 0.3565 - accuracy: 0.8515 - val_loss: 0.3647 - val_accuracy: 0.8593\n",
      "Epoch 48/100\n",
      "188/188 [==============================] - 4s 23ms/step - loss: 0.3597 - accuracy: 0.8512 - val_loss: 0.3659 - val_accuracy: 0.8573\n",
      "Epoch 49/100\n",
      "188/188 [==============================] - 5s 25ms/step - loss: 0.3660 - accuracy: 0.8490 - val_loss: 0.3676 - val_accuracy: 0.8560\n",
      "Epoch 50/100\n",
      "188/188 [==============================] - 5s 26ms/step - loss: 0.3636 - accuracy: 0.8467 - val_loss: 0.3692 - val_accuracy: 0.8600\n",
      "Epoch 51/100\n",
      "188/188 [==============================] - 4s 23ms/step - loss: 0.3648 - accuracy: 0.8452 - val_loss: 0.3655 - val_accuracy: 0.8600\n",
      "Epoch 52/100\n",
      "188/188 [==============================] - 5s 26ms/step - loss: 0.3627 - accuracy: 0.8475 - val_loss: 0.3670 - val_accuracy: 0.8573\n",
      "Epoch 53/100\n",
      "188/188 [==============================] - 6s 31ms/step - loss: 0.3614 - accuracy: 0.8498 - val_loss: 0.3653 - val_accuracy: 0.8560\n",
      "Epoch 54/100\n",
      "188/188 [==============================] - 5s 24ms/step - loss: 0.3602 - accuracy: 0.8497 - val_loss: 0.3633 - val_accuracy: 0.8600\n",
      "Epoch 55/100\n",
      "188/188 [==============================] - 3s 13ms/step - loss: 0.3625 - accuracy: 0.8503 - val_loss: 0.3608 - val_accuracy: 0.8607\n",
      "Epoch 56/100\n",
      "188/188 [==============================] - 2s 9ms/step - loss: 0.3622 - accuracy: 0.8475 - val_loss: 0.3658 - val_accuracy: 0.8560\n",
      "Epoch 57/100\n",
      "188/188 [==============================] - 2s 10ms/step - loss: 0.3619 - accuracy: 0.8490 - val_loss: 0.3667 - val_accuracy: 0.8593\n",
      "Epoch 58/100\n",
      "188/188 [==============================] - 2s 9ms/step - loss: 0.3545 - accuracy: 0.8545 - val_loss: 0.3639 - val_accuracy: 0.8580\n",
      "Epoch 59/100\n",
      "188/188 [==============================] - 2s 9ms/step - loss: 0.3653 - accuracy: 0.8472 - val_loss: 0.3635 - val_accuracy: 0.8527\n",
      "Epoch 60/100\n",
      "188/188 [==============================] - 2s 9ms/step - loss: 0.3641 - accuracy: 0.8490 - val_loss: 0.3636 - val_accuracy: 0.8593\n",
      "Epoch 61/100\n",
      "188/188 [==============================] - 2s 9ms/step - loss: 0.3607 - accuracy: 0.8463 - val_loss: 0.3603 - val_accuracy: 0.8613\n",
      "Epoch 62/100\n",
      "188/188 [==============================] - 2s 9ms/step - loss: 0.3584 - accuracy: 0.8507 - val_loss: 0.3613 - val_accuracy: 0.8580\n",
      "Epoch 63/100\n",
      "188/188 [==============================] - 2s 9ms/step - loss: 0.3597 - accuracy: 0.8513 - val_loss: 0.3618 - val_accuracy: 0.8573\n",
      "Epoch 64/100\n",
      "188/188 [==============================] - 2s 9ms/step - loss: 0.3610 - accuracy: 0.8498 - val_loss: 0.3621 - val_accuracy: 0.8580\n",
      "Epoch 65/100\n",
      "188/188 [==============================] - 2s 9ms/step - loss: 0.3596 - accuracy: 0.8500 - val_loss: 0.3602 - val_accuracy: 0.8613\n",
      "Epoch 66/100\n",
      "188/188 [==============================] - 2s 9ms/step - loss: 0.3573 - accuracy: 0.8518 - val_loss: 0.3638 - val_accuracy: 0.8573\n",
      "Epoch 67/100\n",
      "188/188 [==============================] - 2s 9ms/step - loss: 0.3644 - accuracy: 0.8463 - val_loss: 0.3613 - val_accuracy: 0.8587\n",
      "Epoch 68/100\n",
      "188/188 [==============================] - 2s 9ms/step - loss: 0.3578 - accuracy: 0.8498 - val_loss: 0.3655 - val_accuracy: 0.8573\n",
      "Epoch 69/100\n",
      "188/188 [==============================] - 2s 9ms/step - loss: 0.3576 - accuracy: 0.8505 - val_loss: 0.3593 - val_accuracy: 0.8587\n",
      "Epoch 70/100\n",
      "188/188 [==============================] - 2s 9ms/step - loss: 0.3626 - accuracy: 0.8488 - val_loss: 0.3610 - val_accuracy: 0.8587\n",
      "Epoch 71/100\n",
      "188/188 [==============================] - 2s 9ms/step - loss: 0.3600 - accuracy: 0.8482 - val_loss: 0.3592 - val_accuracy: 0.8587\n",
      "Epoch 72/100\n",
      "188/188 [==============================] - 2s 9ms/step - loss: 0.3599 - accuracy: 0.8517 - val_loss: 0.3602 - val_accuracy: 0.8607\n",
      "Epoch 73/100\n",
      "188/188 [==============================] - 2s 9ms/step - loss: 0.3645 - accuracy: 0.8480 - val_loss: 0.3600 - val_accuracy: 0.8620\n",
      "Epoch 74/100\n",
      "188/188 [==============================] - 2s 9ms/step - loss: 0.3623 - accuracy: 0.8455 - val_loss: 0.3629 - val_accuracy: 0.8580\n",
      "Epoch 75/100\n",
      "188/188 [==============================] - 2s 9ms/step - loss: 0.3641 - accuracy: 0.8473 - val_loss: 0.3599 - val_accuracy: 0.8607\n",
      "Epoch 76/100\n",
      "188/188 [==============================] - 2s 9ms/step - loss: 0.3620 - accuracy: 0.8482 - val_loss: 0.3664 - val_accuracy: 0.8600\n",
      "Epoch 77/100\n",
      "188/188 [==============================] - 2s 9ms/step - loss: 0.3647 - accuracy: 0.8462 - val_loss: 0.3632 - val_accuracy: 0.8573\n",
      "Epoch 78/100\n",
      "188/188 [==============================] - 2s 9ms/step - loss: 0.3623 - accuracy: 0.8490 - val_loss: 0.3635 - val_accuracy: 0.8613\n",
      "Epoch 79/100\n",
      "188/188 [==============================] - 2s 9ms/step - loss: 0.3637 - accuracy: 0.8452 - val_loss: 0.3663 - val_accuracy: 0.8620\n",
      "Epoch 80/100\n",
      "188/188 [==============================] - 2s 9ms/step - loss: 0.3645 - accuracy: 0.8460 - val_loss: 0.3622 - val_accuracy: 0.8647\n",
      "Epoch 81/100\n",
      "188/188 [==============================] - 2s 9ms/step - loss: 0.3579 - accuracy: 0.8528 - val_loss: 0.3649 - val_accuracy: 0.8607\n",
      "Epoch 82/100\n",
      "188/188 [==============================] - 2s 10ms/step - loss: 0.3669 - accuracy: 0.8515 - val_loss: 0.3649 - val_accuracy: 0.8607\n",
      "Epoch 83/100\n",
      "188/188 [==============================] - 2s 9ms/step - loss: 0.3607 - accuracy: 0.8478 - val_loss: 0.3620 - val_accuracy: 0.8573\n",
      "Epoch 84/100\n",
      "188/188 [==============================] - 2s 9ms/step - loss: 0.3645 - accuracy: 0.8465 - val_loss: 0.3618 - val_accuracy: 0.8607\n",
      "Epoch 85/100\n",
      "188/188 [==============================] - 2s 9ms/step - loss: 0.3602 - accuracy: 0.8453 - val_loss: 0.3624 - val_accuracy: 0.8587\n",
      "Epoch 86/100\n",
      "188/188 [==============================] - 2s 9ms/step - loss: 0.3604 - accuracy: 0.8507 - val_loss: 0.3629 - val_accuracy: 0.8587\n",
      "Epoch 87/100\n",
      "188/188 [==============================] - 2s 12ms/step - loss: 0.3585 - accuracy: 0.8488 - val_loss: 0.3639 - val_accuracy: 0.8573\n",
      "Epoch 88/100\n",
      "188/188 [==============================] - 2s 11ms/step - loss: 0.3615 - accuracy: 0.8518 - val_loss: 0.3607 - val_accuracy: 0.8593\n",
      "Epoch 89/100\n",
      "188/188 [==============================] - 2s 10ms/step - loss: 0.3655 - accuracy: 0.8477 - val_loss: 0.3638 - val_accuracy: 0.8607\n",
      "Epoch 90/100\n",
      "188/188 [==============================] - 2s 11ms/step - loss: 0.3588 - accuracy: 0.8502 - val_loss: 0.3655 - val_accuracy: 0.8587\n",
      "Epoch 91/100\n",
      "188/188 [==============================] - 2s 10ms/step - loss: 0.3568 - accuracy: 0.8492 - val_loss: 0.3610 - val_accuracy: 0.8587\n",
      "Epoch 92/100\n",
      "188/188 [==============================] - 3s 15ms/step - loss: 0.3614 - accuracy: 0.8473 - val_loss: 0.3611 - val_accuracy: 0.8607\n",
      "Epoch 93/100\n",
      "188/188 [==============================] - 2s 9ms/step - loss: 0.3612 - accuracy: 0.8503 - val_loss: 0.3661 - val_accuracy: 0.8580\n",
      "Epoch 94/100\n",
      "188/188 [==============================] - 2s 10ms/step - loss: 0.3605 - accuracy: 0.8542 - val_loss: 0.3628 - val_accuracy: 0.8620\n",
      "Epoch 95/100\n",
      "188/188 [==============================] - 2s 11ms/step - loss: 0.3602 - accuracy: 0.8473 - val_loss: 0.3622 - val_accuracy: 0.8600\n",
      "Epoch 96/100\n",
      "188/188 [==============================] - 2s 10ms/step - loss: 0.3595 - accuracy: 0.8523 - val_loss: 0.3615 - val_accuracy: 0.8593\n",
      "Epoch 97/100\n",
      "188/188 [==============================] - 2s 10ms/step - loss: 0.3603 - accuracy: 0.8495 - val_loss: 0.3632 - val_accuracy: 0.8593\n",
      "Epoch 98/100\n",
      "188/188 [==============================] - 2s 11ms/step - loss: 0.3600 - accuracy: 0.8485 - val_loss: 0.3644 - val_accuracy: 0.8600\n",
      "Epoch 99/100\n",
      "188/188 [==============================] - 2s 10ms/step - loss: 0.3623 - accuracy: 0.8478 - val_loss: 0.3670 - val_accuracy: 0.8540\n",
      "Epoch 100/100\n",
      "188/188 [==============================] - 2s 10ms/step - loss: 0.3606 - accuracy: 0.8458 - val_loss: 0.3681 - val_accuracy: 0.8567\n"
     ]
    }
   ],
   "source": [
    "import keras\n",
    "from keras.models import Sequential\n",
    "from keras.layers import Dense\n",
    "from keras.layers import Dropout\n",
    "from keras.layers import BatchNormalization\n",
    "\n",
    "# initializing ann\n",
    "model = Sequential()\n",
    "\n",
    "# adding the first input layer and the first hidden layer\n",
    "model.add(Dense(10, kernel_initializer = 'normal', activation = 'relu', input_shape = (10, )))\n",
    "\n",
    "# adding batch normalization and dropout layer\n",
    "model.add(Dropout(rate = 0.1))\n",
    "model.add(BatchNormalization())\n",
    "\n",
    "# adding the third hidden layer\n",
    "model.add(Dense(7, kernel_initializer = 'normal', activation = 'relu'))\n",
    "\n",
    "# adding batch normalization and dropout layer\n",
    "model.add(Dropout(rate = 0.1))\n",
    "model.add(BatchNormalization())\n",
    "\n",
    "# adding the output layer\n",
    "model.add(Dense(2, kernel_initializer = 'normal', activation = 'sigmoid'))\n",
    "\n",
    "# compiling the model\n",
    "model.compile(optimizer = 'adam', loss = 'binary_crossentropy', metrics = ['accuracy'])\n",
    "\n",
    "# fitting the model to the training set \n",
    "\n",
    "model_history = model.fit(X_train, y_train, validation_split = 0.20, validation_data = (X_test, y_test), epochs = 100)"
   ]
  },
  {
   "cell_type": "code",
   "execution_count": 46,
   "id": "friendly-imaging",
   "metadata": {
    "execution": {
     "iopub.execute_input": "2021-11-09T08:08:09.967382Z",
     "iopub.status.busy": "2021-11-09T08:08:09.966687Z",
     "iopub.status.idle": "2021-11-09T08:08:10.209725Z",
     "shell.execute_reply": "2021-11-09T08:08:10.210250Z",
     "shell.execute_reply.started": "2021-11-09T08:03:46.340388Z"
    },
    "papermill": {
     "duration": 0.473473,
     "end_time": "2021-11-09T08:08:10.210436",
     "exception": false,
     "start_time": "2021-11-09T08:08:09.736963",
     "status": "completed"
    },
    "tags": []
   },
   "outputs": [
    {
     "data": {
      "image/png": "[encoded data removed]",
      "text/plain": [
       "<Figure size 864x432 with 1 Axes>"
      ]
     },
     "metadata": {
      "needs_background": "light"
     },
     "output_type": "display_data"
    }
   ],
   "source": [
    "plt.figure(figsize = (12, 6))\n",
    "\n",
    "train_loss = model_history.history['loss']\n",
    "val_loss = model_history.history['val_loss'] \n",
    "epoch = range(1, 101)\n",
    "sns.lineplot(epoch, train_loss, label = 'Training Loss')\n",
    "sns.lineplot(epoch, val_loss, label = 'Validation Loss')\n",
    "plt.title('Training and Validation Loss\\n')\n",
    "plt.xlabel('Epochs')\n",
    "plt.ylabel('Loss')\n",
    "plt.legend()\n",
    "plt.show()"
   ]
  },
  {
   "cell_type": "code",
   "execution_count": 47,
   "id": "referenced-remainder",
   "metadata": {
    "execution": {
     "iopub.execute_input": "2021-11-09T08:08:11.151402Z",
     "iopub.status.busy": "2021-11-09T08:08:11.143074Z",
     "iopub.status.idle": "2021-11-09T08:08:11.371500Z",
     "shell.execute_reply": "2021-11-09T08:08:11.371965Z",
     "shell.execute_reply.started": "2021-11-09T08:03:46.561454Z"
    },
    "papermill": {
     "duration": 0.48745,
     "end_time": "2021-11-09T08:08:11.372220",
     "exception": false,
     "start_time": "2021-11-09T08:08:10.884770",
     "status": "completed"
    },
    "tags": []
   },
   "outputs": [
    {
     "data": {
      "image/png": "[encoded data removed]",
      "text/plain": [
       "<Figure size 864x432 with 1 Axes>"
      ]
     },
     "metadata": {
      "needs_background": "light"
     },
     "output_type": "display_data"
    }
   ],
   "source": [
    "plt.figure(figsize = (12, 6))\n",
    "\n",
    "train_loss = model_history.history['accuracy']\n",
    "val_loss = model_history.history['val_accuracy'] \n",
    "epoch = range(1, 101)\n",
    "sns.lineplot(epoch, train_loss, label = 'Training accuracy')\n",
    "sns.lineplot(epoch, val_loss, label = 'Validation accuracy')\n",
    "plt.title('Training and Validation Accuracy\\n')\n",
    "plt.xlabel('Epochs')\n",
    "plt.ylabel('Accuracy')\n",
    "plt.legend()\n",
    "plt.show()"
   ]
  },
  {
   "cell_type": "code",
   "execution_count": 48,
   "id": "printable-sleep",
   "metadata": {
    "execution": {
     "iopub.execute_input": "2021-11-09T08:08:11.828433Z",
     "iopub.status.busy": "2021-11-09T08:08:11.827488Z",
     "iopub.status.idle": "2021-11-09T08:08:11.946454Z",
     "shell.execute_reply": "2021-11-09T08:08:11.945754Z",
     "shell.execute_reply.started": "2021-11-09T08:03:46.789192Z"
    },
    "papermill": {
     "duration": 0.348479,
     "end_time": "2021-11-09T08:08:11.946597",
     "exception": false,
     "start_time": "2021-11-09T08:08:11.598118",
     "status": "completed"
    },
    "tags": []
   },
   "outputs": [
    {
     "name": "stdout",
     "output_type": "stream",
     "text": [
      "79/79 [==============================] - 0s 3ms/step - loss: 0.3741 - accuracy: 0.8428\n",
      "Accuracy of model is 0.8428000211715698\n"
     ]
    }
   ],
   "source": [
    "acc = model.evaluate(X_test, y_test)[1]\n",
    "\n",
    "print(f'Accuracy of model is {acc}')"
   ]
  },
  {
   "cell_type": "code",
   "execution_count": 49,
   "id": "micro-ministry",
   "metadata": {
    "execution": {
     "iopub.execute_input": "2021-11-09T08:08:12.414230Z",
     "iopub.status.busy": "2021-11-09T08:08:12.413487Z",
     "iopub.status.idle": "2021-11-09T08:08:12.422989Z",
     "shell.execute_reply": "2021-11-09T08:08:12.423681Z",
     "shell.execute_reply.started": "2021-11-09T08:03:46.903333Z"
    },
    "papermill": {
     "duration": 0.242215,
     "end_time": "2021-11-09T08:08:12.423901",
     "exception": false,
     "start_time": "2021-11-09T08:08:12.181686",
     "status": "completed"
    },
    "tags": []
   },
   "outputs": [
    {
     "name": "stdout",
     "output_type": "stream",
     "text": [
      "Model: \"sequential_2\"\n",
      "_________________________________________________________________\n",
      " Layer (type)                Output Shape              Param #   \n",
      "=================================================================\n",
      " dense_6 (Dense)             (None, 10)                110       \n",
      "                                                                 \n",
      " dropout_4 (Dropout)         (None, 10)                0         \n",
      "                                                                 \n",
      " batch_normalization_4 (Batc  (None, 10)               40        \n",
      " hNormalization)                                                 \n",
      "                                                                 \n",
      " dense_7 (Dense)             (None, 7)                 77        \n",
      "                                                                 \n",
      " dropout_5 (Dropout)         (None, 7)                 0         \n",
      "                                                                 \n",
      " batch_normalization_5 (Batc  (None, 7)                28        \n",
      " hNormalization)                                                 \n",
      "                                                                 \n",
      " dense_8 (Dense)             (None, 2)                 16        \n",
      "                                                                 \n",
      "=================================================================\n",
      "Total params: 271\n",
      "Trainable params: 237\n",
      "Non-trainable params: 34\n",
      "_________________________________________________________________\n"
     ]
    }
   ],
   "source": [
    "model.summary()"
   ]
  },
  {
   "cell_type": "code",
   "execution_count": 50,
   "id": "1aa40936",
   "metadata": {},
   "outputs": [
    {
     "name": "stdout",
     "output_type": "stream",
     "text": [
      "\n",
      "Exited     Not-Exited\n",
      "80.89%     19.11%\n",
      "76.86%     23.14%\n",
      "97.2%     2.8%\n",
      "95.08%     4.92%\n",
      "90.48%     9.52%\n"
     ]
    },
    {
     "data": {
      "text/html": [
       "<div>\n",
       "<style scoped>\n",
       "    .dataframe tbody tr th:only-of-type {\n",
       "        vertical-align: middle;\n",
       "    }\n",
       "\n",
       "    .dataframe tbody tr th {\n",
       "        vertical-align: top;\n",
       "    }\n",
       "\n",
       "    .dataframe thead th {\n",
       "        text-align: right;\n",
       "    }\n",
       "</style>\n",
       "<table border=\"1\" class=\"dataframe\">\n",
       "  <thead>\n",
       "    <tr style=\"text-align: right;\">\n",
       "      <th></th>\n",
       "      <th>CreditScore</th>\n",
       "      <th>Geography</th>\n",
       "      <th>Gender</th>\n",
       "      <th>Age</th>\n",
       "      <th>Tenure</th>\n",
       "      <th>Balance</th>\n",
       "      <th>NumOfProducts</th>\n",
       "      <th>HasCrCard</th>\n",
       "      <th>IsActiveMember</th>\n",
       "      <th>EstimatedSalary</th>\n",
       "    </tr>\n",
       "  </thead>\n",
       "  <tbody>\n",
       "    <tr>\n",
       "      <th>4738</th>\n",
       "      <td>702</td>\n",
       "      <td>0</td>\n",
       "      <td>1</td>\n",
       "      <td>40</td>\n",
       "      <td>1</td>\n",
       "      <td>103549.24</td>\n",
       "      <td>1</td>\n",
       "      <td>0</td>\n",
       "      <td>0</td>\n",
       "      <td>9712.52</td>\n",
       "    </tr>\n",
       "    <tr>\n",
       "      <th>4760</th>\n",
       "      <td>850</td>\n",
       "      <td>0</td>\n",
       "      <td>0</td>\n",
       "      <td>40</td>\n",
       "      <td>1</td>\n",
       "      <td>76914.21</td>\n",
       "      <td>1</td>\n",
       "      <td>1</td>\n",
       "      <td>0</td>\n",
       "      <td>174183.44</td>\n",
       "    </tr>\n",
       "    <tr>\n",
       "      <th>9214</th>\n",
       "      <td>629</td>\n",
       "      <td>0</td>\n",
       "      <td>1</td>\n",
       "      <td>39</td>\n",
       "      <td>10</td>\n",
       "      <td>0.00</td>\n",
       "      <td>2</td>\n",
       "      <td>1</td>\n",
       "      <td>1</td>\n",
       "      <td>43174.49</td>\n",
       "    </tr>\n",
       "    <tr>\n",
       "      <th>9767</th>\n",
       "      <td>554</td>\n",
       "      <td>0</td>\n",
       "      <td>0</td>\n",
       "      <td>33</td>\n",
       "      <td>3</td>\n",
       "      <td>117413.95</td>\n",
       "      <td>1</td>\n",
       "      <td>1</td>\n",
       "      <td>1</td>\n",
       "      <td>12766.74</td>\n",
       "    </tr>\n",
       "    <tr>\n",
       "      <th>768</th>\n",
       "      <td>684</td>\n",
       "      <td>2</td>\n",
       "      <td>0</td>\n",
       "      <td>41</td>\n",
       "      <td>2</td>\n",
       "      <td>119782.72</td>\n",
       "      <td>2</td>\n",
       "      <td>0</td>\n",
       "      <td>0</td>\n",
       "      <td>120284.67</td>\n",
       "    </tr>\n",
       "  </tbody>\n",
       "</table>\n",
       "</div>"
      ],
      "text/plain": [
       "      CreditScore  Geography  Gender  Age  Tenure    Balance  NumOfProducts  \\\n",
       "4738          702          0       1   40       1  103549.24              1   \n",
       "4760          850          0       0   40       1   76914.21              1   \n",
       "9214          629          0       1   39      10       0.00              2   \n",
       "9767          554          0       0   33       3  117413.95              1   \n",
       "768           684          2       0   41       2  119782.72              2   \n",
       "\n",
       "      HasCrCard  IsActiveMember  EstimatedSalary  \n",
       "4738          0               0          9712.52  \n",
       "4760          1               0        174183.44  \n",
       "9214          1               1         43174.49  \n",
       "9767          1               1         12766.74  \n",
       "768           0               0        120284.67  "
      ]
     },
     "execution_count": 50,
     "metadata": {},
     "output_type": "execute_result"
    }
   ],
   "source": [
    "d = sc.transform(dupe)\n",
    "predictions = model.predict(d)\n",
    "print(f\"\\nExited     Not-Exited\")\n",
    "for i in predictions:\n",
    "    print(f'{round(i[0]*100,2)}%     {round(i[1]*100,2)}%')\n",
    "dupe\n"
   ]
  }
 ],
 "metadata": {
  "kernelspec": {
   "display_name": "Python 3.8.0 64-bit",
   "language": "python",
   "name": "python3"
  },
  "language_info": {
   "codemirror_mode": {
    "name": "ipython",
    "version": 3
   },
   "file_extension": ".py",
   "mimetype": "text/x-python",
   "name": "python",
   "nbconvert_exporter": "python",
   "pygments_lexer": "ipython3",
   "version": "3.8.0"
  },
  "papermill": {
   "default_parameters": {},
   "duration": 62.879553,
   "end_time": "2021-11-09T08:08:15.574679",
   "environment_variables": {},
   "exception": null,
   "input_path": "__notebook__.ipynb",
   "output_path": "__notebook__.ipynb",
   "parameters": {},
   "start_time": "2021-11-09T08:07:12.695126",
   "version": "2.3.3"
  },
  "vscode": {
   "interpreter": {
    "hash": "b3ad064d7cfd5df915a667c6ed2b8a91cd630f9f80ce648f2f904cd897c692fc"
   }
  }
 },
 "nbformat": 4,
 "nbformat_minor": 5
}
